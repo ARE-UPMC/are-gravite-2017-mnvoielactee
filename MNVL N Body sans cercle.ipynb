{
 "cells": [
  {
   "cell_type": "code",
   "execution_count": 2,
   "metadata": {
    "collapsed": true
   },
   "outputs": [],
   "source": [
    "import numpy as np\n",
    "import matplotlib.pyplot as plt\n",
    "import matplotlib.animation as animation"
   ]
  },
  {
   "cell_type": "code",
   "execution_count": 3,
   "metadata": {
    "collapsed": true
   },
   "outputs": [],
   "source": [
    "def Ai(i, M, X, Y, epsilon):\n",
    "    \"\"\" indice i * tableau des masses * tableau des x * tableau des y * epsilon   ->  vecteur accélération\n",
    "         int            array                array         array         float           couple (x,y) \"\"\"\n",
    "    G = 6.67*10**(-11)\n",
    "    Fix = 0\n",
    "    Fiy = 0\n",
    "    \n",
    "    for j in range(len(X)):\n",
    "        #print('tour', j)\n",
    "        #print(' ')\n",
    "        Rij_x = X[j] - X[i]    #vecteur proj sur x\n",
    "        Rij_y = Y[j] - Y[i]    #vecteur proj sur y\n",
    "        rij2 = Rij_x**2 + Rij_y**2   #norme au carre\n",
    "        #print('Rx ',Rij_x)\n",
    "        #print('Ry ',Rij_y)\n",
    "        #print('rij² ',rij2)\n",
    "        #print(' ')\n",
    "        \n",
    "        Fix = Fix + (M[j]*Rij_x)/((rij2 + epsilon**2)**(3/2))\n",
    "        Fiy = Fiy + (M[j]*Rij_y)/((rij2 + epsilon**2)**(3/2))\n",
    "        #print('Fx ',Fix)\n",
    "        #print('Fy ',Fiy)\n",
    "        #print('  ')\n",
    "        \n",
    "        \n",
    "    Aix = Fix*G\n",
    "    Aiy = Fiy*G\n",
    "    return Aix, Aiy"
   ]
  },
  {
   "cell_type": "code",
   "execution_count": 4,
   "metadata": {
    "collapsed": true
   },
   "outputs": [],
   "source": [
    "def instant_suivant(j,X0,Y0,Vx0,Vy0,M):\n",
    "    X=X0\n",
    "    #X = np.ones(len(X0))\n",
    "    Y=Y0\n",
    "    t=j*dt\n",
    "    #M = 100000000000*np.ones(len(Y0))\n",
    "    epsilon = 0.000001\n",
    "    for i in range(len(X0)):\n",
    "        Aix, Aiy = Ai(i, M, X, Y, epsilon)\n",
    "        X[i] = ((Aix*(t**2/2)) + Vx0[i]*t +X0[i])\n",
    "        Y[i] = ((Aiy*(t**2/2)) + Vy0[i]*t +Y0[i])\n",
    "        #print(Vx0[i])\n",
    "    return plt.plot(X,Y, 'bo')\n",
    "    #return(X,Y)"
   ]
  },
  {
   "cell_type": "code",
   "execution_count": 28,
   "metadata": {
    "collapsed": false,
    "scrolled": true
   },
   "outputs": [
    {
     "data": {
      "text/plain": [
       "(array([ 0.90242674,  0.30681655,  0.69621877]),\n",
       " array([-0.39781899, -1.00142931, -0.80430969]),\n",
       " array([ 0.35,  0.5 , -0.3 ]),\n",
       " array([ 0.4 , -0.25, -0.5 ]),\n",
       " (-21.465130808352733, -36.379703099683397),\n",
       " [<matplotlib.lines.Line2D at 0x6bd58d0>],\n",
       " 2,\n",
       " 1.2524267433968355)"
      ]
     },
     "execution_count": 28,
     "metadata": {},
     "output_type": "execute_result"
    }
   ],
   "source": [
    "dt = 0.01\n",
    "N = 3\n",
    "X0 = 0.1*np.random.randint(-10,11,N)\n",
    "Y0 = 0.1*np.random.randint(-10,11,N)\n",
    "Vx0 = 0.05*np.random.randint(-10,+11,N)\n",
    "Vy0 = 0.05*np.random.randint(-10,+11,N)\n",
    "M = 100000000000*np.ones(N)\n",
    "#np.random.rand(10)\n",
    "X0,Y0,Vx0,Vy0, Ai(0, M, X0, Y0, 0.0001),instant_suivant(1,X0,Y0,Vx0,Vy0,M),1+1,Vx0[0]+X0[0]"
   ]
  },
  {
   "cell_type": "code",
   "execution_count": 29,
   "metadata": {
    "collapsed": false,
    "scrolled": true
   },
   "outputs": [],
   "source": [
    "fig = plt.figure()\n",
    "plt.axis(\"equal\")\n",
    "ani = animation.FuncAnimation(fig, instant_suivant, frames=1000, interval=300,fargs=(X0,Y0,Vx0,Vy0,M), repeat=True)\n",
    "plt.show()\n",
    "\n",
    "# Bug de collision"
   ]
  },
  {
   "cell_type": "code",
   "execution_count": 7,
   "metadata": {
    "collapsed": false
   },
   "outputs": [
    {
     "data": {
      "text/plain": [
       "'M= np.array([10**23,10**25])\\nX0=np.array([0, 400000000])\\nY0 = np.array([0, 0])\\nVx0 = np.array([0,0])\\nVy0 =np.array([0,1000]) '"
      ]
     },
     "execution_count": 7,
     "metadata": {},
     "output_type": "execute_result"
    }
   ],
   "source": [
    "'''M= np.array([10**23,10**25])\n",
    "X0=np.array([0, 400000000])\n",
    "Y0 = np.array([0, 0])\n",
    "Vx0 = np.array([0,0])\n",
    "Vy0 =np.array([0,1000]) '''"
   ]
  },
  {
   "cell_type": "code",
   "execution_count": 8,
   "metadata": {
    "collapsed": false
   },
   "outputs": [
    {
     "data": {
      "text/plain": [
       "array([  4.        , -68.10717777,   0.80652817])"
      ]
     },
     "execution_count": 8,
     "metadata": {},
     "output_type": "execute_result"
    }
   ],
   "source": [
    "X0[0]= 0*5+ 2*1+2\n",
    "X0"
   ]
  }
 ],
 "metadata": {
  "kernelspec": {
   "display_name": "Python 3",
   "language": "python",
   "name": "python3"
  },
  "language_info": {
   "codemirror_mode": {
    "name": "ipython",
    "version": 3
   },
   "file_extension": ".py",
   "mimetype": "text/x-python",
   "name": "python",
   "nbconvert_exporter": "python",
   "pygments_lexer": "ipython3",
   "version": "3.4.1"
  }
 },
 "nbformat": 4,
 "nbformat_minor": 0
}

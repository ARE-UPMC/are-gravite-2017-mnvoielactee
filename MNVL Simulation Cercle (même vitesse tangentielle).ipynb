{
 "cells": [
  {
   "cell_type": "code",
   "execution_count": 1,
   "metadata": {
    "collapsed": false
   },
   "outputs": [],
   "source": [
    "\n",
    "import numpy as np\n",
    "import matplotlib.pyplot as plt\n",
    "\n",
    "\n",
    "for i in range(1,6):\n",
    "    theta = np.linspace(0, 2*np.pi, i*10)\n",
    "    X = i*np.cos(theta)\n",
    "    Y = i*np.sin(theta)\n",
    "    plt.plot(X, Y, 'ro')\n",
    "\n",
    "plt.axis(\"equal\")\n",
    "\n",
    "plt.show()\n"
   ]
  },
  {
   "cell_type": "code",
   "execution_count": 2,
   "metadata": {
    "collapsed": false
   },
   "outputs": [],
   "source": [
    "X = np.empty(0)\n",
    "Y = np.empty(0)\n",
    "\n",
    "for i in range(1,6):\n",
    "    theta = np.linspace(0, 2*np.pi, i*10)\n",
    "    X = np.append(X, i*np.cos(theta))\n",
    "    Y = np.append(Y, i*np.sin(theta))\n",
    "\n",
    "plt.axis(\"equal\")\n",
    "plt.plot(X, Y, 'ro')\n",
    "plt.show()"
   ]
  },
  {
   "cell_type": "code",
   "execution_count": 3,
   "metadata": {
    "collapsed": false
   },
   "outputs": [],
   "source": [
    "def init():\n",
    "\n",
    "    X = np.empty(0)\n",
    "    Y = np.empty(0)\n",
    "\n",
    "    for i in range(1,6):\n",
    "        theta = np.linspace(0, 2*np.pi, i*10)\n",
    "        X = np.append(X, i*np.cos(theta))\n",
    "        Y = np.append(Y, i*np.sin(theta))\n",
    "\n",
    "    plt.axis(\"equal\")\n",
    "    return plt.plot(X, Y, 'bo')"
   ]
  },
  {
   "cell_type": "code",
   "execution_count": 4,
   "metadata": {
    "collapsed": false
   },
   "outputs": [],
   "source": [
    "init()\n",
    "plt.show()"
   ]
  },
  {
   "cell_type": "code",
   "execution_count": 5,
   "metadata": {
    "collapsed": true
   },
   "outputs": [],
   "source": [
    "#def position_suivante(Xi, )"
   ]
  },
  {
   "cell_type": "code",
   "execution_count": 6,
   "metadata": {
    "collapsed": false
   },
   "outputs": [],
   "source": [
    "#Xtplus1 = np.empty(0)\n",
    "#Ytplus1 = np.empty(0)\n",
    "#for i in range(len(X)):\n",
    "#    Xtplus1 = np.append(Xtplus1, position_suivante(X[i]))\n",
    "#    Ytplus1 = np.append(Ytplus1, position_suivante(Y[i]))"
   ]
  },
  {
   "cell_type": "code",
   "execution_count": 7,
   "metadata": {
    "collapsed": false
   },
   "outputs": [],
   "source": [
    "def update(i):\n",
    "    plt.axis(\"equal\")\n",
    "    X = np.empty(0)\n",
    "    Y = np.empty(0)\n",
    "    for j in range(1, 6):\n",
    "        j10 = j*10\n",
    "        theta = np.linspace(0, 2*np.pi, j10)\n",
    "        X = np.append(X, j*np.cos(theta[i%j10]))\n",
    "        Y = np.append(Y, j*np.sin(theta[i%j10]))\n",
    "    \n",
    "    return plt.plot(X, Y, 'ro') "
   ]
  },
  {
   "cell_type": "code",
   "execution_count": 8,
   "metadata": {
    "collapsed": false
   },
   "outputs": [],
   "source": [
    "for i in range(6):\n",
    "    update(i)\n",
    "plt.show()"
   ]
  },
  {
   "cell_type": "code",
   "execution_count": 23,
   "metadata": {
    "collapsed": false
   },
   "outputs": [],
   "source": [
    "import matplotlib.animation as animation\n",
    "fig = plt.figure()\n",
    "plt.axis(\"equal\")\n",
    "ani = animation.FuncAnimation(fig, update, init_func=init, blit=True,frames=1000,interval=70, repeat=True)\n",
    "plt.show()"
   ]
  },
  {
   "cell_type": "code",
   "execution_count": null,
   "metadata": {
    "collapsed": true
   },
   "outputs": [],
   "source": []
  }
 ],
 "metadata": {
  "kernelspec": {
   "display_name": "Python 3",
   "language": "python",
   "name": "python3"
  },
  "language_info": {
   "codemirror_mode": {
    "name": "ipython",
    "version": 3
   },
   "file_extension": ".py",
   "mimetype": "text/x-python",
   "name": "python",
   "nbconvert_exporter": "python",
   "pygments_lexer": "ipython3",
   "version": "3.4.1"
  }
 },
 "nbformat": 4,
 "nbformat_minor": 0
}

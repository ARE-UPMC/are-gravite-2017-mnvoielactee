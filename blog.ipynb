{
 "cells": [
  {
   "cell_type": "markdown",
   "metadata": {},
   "source": [
    "# Matière noire et Voie Lactée\n",
    "## Etudiants: Garance Morand, Silya Achat, Mohamed-Bayrem Allagui, Guillaume Renaut, Marie Jarvis\n"
   ]
  },
  {
   "cell_type": "markdown",
   "metadata": {},
   "source": [
    "### Semaine 1\n",
    "Nous prévoyons de réaliser une première modélisation de la Voie Lactée en l'absence de matière noire, que l'on comparera aux données obtenues avec l'observation de la vitesse des nuages de gaz. En voyant que les deux modèles ne sont pas compatibles, on créera un nouveau modèle supposant l'existence de matière noire dans la Voie Lactée de telle sorte à ce que ce soit compatible avec la vitesse des nuages de gaz en respectant les lois d'interaction gravitationnelle. La vitesse des nuages de gaz s'obtiendra à partir de la spectroscopie de l'hydrogène neutre en la calculant à partir du décalage dû à l'effet doppler. A partir de la courbe de rotation du nuage de gaz on modélisera sa trajectoire. \n",
    "### Semaine 2\n",
    "\n",
    "### Semaine 3\n",
    "\n",
    "### Semaine 4\n",
    ""
   ]
  }
 ],
 "metadata": {
  "kernelspec": {
   "display_name": "Python 3",
   "language": "python",
   "name": "python3"
  },
  "language_info": {
   "codemirror_mode": {
    "name": "ipython",
    "version": 3
   },
   "file_extension": ".py",
   "mimetype": "text/x-python",
   "name": "python",
   "nbconvert_exporter": "python",
   "pygments_lexer": "ipython3",
   "version": "3.6.0"
  }
 },
 "nbformat": 4,
 "nbformat_minor": 2
}

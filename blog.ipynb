{
 "cells": [
  {
   "cell_type": "markdown",
   "metadata": {},
   "source": [
    "# Matière noire et Voie Lactée\n",
    "## Etudiants: Garance Morand, Silya Achat, Mohamed-Bayrem Allagui, Guillaume Renaut, Marie Jarvis\n"
   ]
  },
  {
   "cell_type": "markdown",
   "metadata": {},
   "source": [
    "### Semaine 1\n",
    "Nous prévoyons de réaliser une première modélisation de la Voie Lactée en l'absence de matière noire, que l'on comparera aux données obtenues avec l'observation de la vitesse des nuages de gaz. En voyant que les deux modèles ne sont pas compatibles, on créera un nouveau modèle supposant l'existence de matière noire dans la Voie Lactée de telle sorte à ce que ce soit compatible avec la vitesse des nuages de gaz en respectant les lois d'interaction gravitationnelle. La vitesse des nuages de gaz s'obtiendra à partir de la spectroscopie de l'hydrogène neutre en la calculant à partir du décalage dû à l'effet doppler. A partir de la courbe de rotation du nuage de gaz on modélisera sa trajectoire.\n",
    "\n Cette semaine nous avons effectué des recherches sur la radioastronomie, la matière noire, l'hydrogène neutre, le lien entre les deux derniers. En parallèle nous avons vu comment tracer un cercle en Python, et commencé à travailler sur l'animation des figures. Durant cette semaine, nous avons lu le polycopié sur la Voie Lactée présent sur le site eu-hou. Nous nous sommes également inscrits sur le site eu-hou afin de pouvoir effectuer des simulations grâce à un radiotelescope.\n",
    "\n Grâce au simulateur, nous allons relever les valeurs des vitesses radiales de nuages de gaz à différentes longitudes. A partir de ces valeurs, nous allons pouvoir tracer la courbe de la vitesse radiale en fonction de la distance entre le nuage et le centre Galactique, et ainsi trouver la position du nuage de gaz. Pour différentes longitudes l (15°, 30°, 45°, 60° et 75°), nous avons lancé une simulation afin d'obtenir, pour un nuage de gaz, sa température en fonction de sa vitesse radiale. Pour le cinq simulations, nous avons reperé le pic ayant la plus grande vitesse positive. Ce pic correspond à la vitesse radiale Vr d'un nuage de gaz. A partir de cette vitesse, nous avons calculé la distance entre le nuage de gaz et le centre de la galaxie en supposant que V=V0 grâce à la formule R=(R0*V0*sin(l))/(V0*sin(l)+Vr). A partir de cette valeur, nous avons calculé la vitesse circulaire V=((Vr+V0*sin(l))*R)/(R0*sin(l)). On remarque que toutes les vitesse circulaires sont approximativement égales. Nous avons comparé les valeurs du rayon R et de la vitesse circulaire V que nous avons calculées avec celle s'affichant sur le graphique, et on remarque que les valeurs sont à peu près les mêmes. Nous obtenons donc le rayon de l'orbite circulaire du nuage de gaz d'hydrogène.\n",
    "\n On obtient ainsi le rayon de l'orbite du nuage de gaz autour du centre de la galaxie dans le référentiel centré sur le Soleil. Pour pouvoir réaliser notre codage, on a besoin du rayon entre le nuage de gaz et le centre de la galaxie, car le nuage tourne autour du centre de la galaxie et non autour du centre du centre du Soleil. Pour ce faire, on utilise le théorème d'Al-Kashi que l'on applique au triangle SGN avec S le centre du Soleil, G le centre de la galaxie et N le nuage de gaz. On connaît la distance SG ,entre le centre du Soleil et le centre de la galaxie, qui est R0, la distance entre le centre du Soleil et le nuage de gaz SN, qui est R, ainsi que l'angle (SN,SG), qui est l. On cherche la distance entre le centre de la galaxie et le nuage de gaz NG. Pour cela, on applique la formule NG²=SN²+SG²-2*SN*SG*cos(SN,SG).\n",
    
    "### Semaine 2\n",
    "Afin de calculer la courbe de rotation de la galaxie, nous avons effectué des mesures à l'aide du télescopes. Nous avons effectué des simulations pour des longitudes comprises entre 0 et 90°. Sur chaque spectre obtenu, nous avons sélectionné la raie la plus à droite et nous avons relevé la valeur de Vr. Nous avons ainsi obtenu la courbe de la vitesse circulaire V en fonction du rayon R par la méthode du point tangent. En effet, la raie la plus à droite coorespond au rayon entre le nuage de gaz et le centre galactique le plus petit. Le triangle reliant le centre du Soleil, le centre galactique et le nuage de gaz est rectangle au niveau du nuage lorsqu'on prend le rayon minimal. Dans ce cas-là, on peut ainsi simplifier la formule donnant la vitesse circulaire au point tangent en V=Vr+V0*sin(l), ce qui nous permet d'obtenir le graphe de V en fonction de R.\n",
    "\n Pour calculer la position d'un nuage de gaz le long d'une ligne de visée, nous avons réalisé d'autres mesures. La ligne de visée correspond à la ligne reliant le nuage de gaz au centre du Soleil (qui coorespont à l'endroit d'où l'on observe le nuage). On suupose que la distance du nuage de gaz au centre galactique n'influe pas sur la vitesse circulaire du nuage, c'est-à-dire que V=V0(vitesse du Soleil autour du centre de la Voie Lactée). Nous avons effectué une simulation pour trois longitudes: 50°, 90° et 135°. Pour chacune d'entre elles, nous avons relevé la vitesse radiale de chacundes pics. Celle-ci nous a permis d'obtenir un schéma de la Voie Lactée sur lequel apparaissait les différents nuages de gaz sur la ligne de visée correspondant à la longitude. A partir des mesures de Vr, nous avons calculé pour chaque nuage de gaz sa distance au centre de la galaxie grâce à la formule: R=(R0*V0*sin(l))/(V0*sin(l)+Vr). Nous avons donc obtenu le rayon de l'orbite circulaire du nuage de gaz pour chaque pic d'émission.\n",
    "\n De plus, nous avons fait l'activité pour estimer la masse de la Voie Lactée. En effet, à partir de la vitesse des corps de la Voie Lactée, on peut estimer la masse intérieure à sa trajectoire grâce à l'expression de la force gravitationnelle. Ainsi en observant la vitesse d'un corps le plus externe à la Voie Lactée, on peut trouver sa masse. Puis en estimant la masse des étoiles, et en faisant la différence de ces deux masses nous pouvons estimer la masse de la matière noire qui est de l'ordre de 10^11 Masses Solaires et représente donc 70% de la Voie Lactée. On souhaite trouver expérimentalement une valeure précise de cette masse et donc observer la vitesse circulaire d'un corps le plus éloigné possible, donc dans les cadran II et III et ainsi poursuivre la courbe de rotation de la Voie Lactée. Puisqu'on ne peut utiliser la technique du point tageant dans ces cadrans, nous allons utiliser le modèle informatique pour simuler pour R fixé plusieurs vitesses circulaires qui correspondront à la vitesse relative observée à une certaine longitude. \n",
    "\n Partie informatique : On a tenté de réaliser plusieurs types de simulation : (1) Une simulation simple de lancer de balle (qui donne une parabole) pour tester le module animation. (2) Une modélisation de la Voie Lactée en l'assimilant à une série de points régulièrement espacés sur des cercles concentriques, de même vitesse tangentielle. On n'observe pas grand chose car les points précédemment tracés restent sur le graphe et donc on ne voit plus le mouvement après quelques itérations. (3) Une modélisation à N corps de la Voie Lactée, en utilisant la formule Ai = G x SOMME(j=1->N) [ ( Mj x Rij ) / ( ||Rij||² + epsilon² )^(3/2) ]  pour calculer l'accéleration subie par chaque point i. La simulation souffre du même problème : les points précédents ne disparaissent pas. De plus les points ont la même vitesse angulaire initiale, ce qu'il faudra changer pour qu'ils aient la même vitesse circulaire initiale. (4) Une modélisation de N points placés aléatoirement sur le graphique soumis à leur poids. On se rend compte que lors d'une collision l'un des points est 'téléporté' ailleurs sur le graphe au lieu qu'ils se 'traversent' (c'est à ça que doit servir le epsilon de la formule), cela reste à expliquer \n",
    "\n Nous avons mis nos mesures, calculs et programmes dans les fichiers joints\n",
    
    "### Semaine 3\n",
    "Nous cherchons à calculer la courbe de rotation de la Voie Lactée. Pour la calculer dans les cadrants 1 et 4, on peut utiliser la méthode du point tangent, c'est à dire utiliser le rayon R minimal entre le centre de la galaxie et le nuage de gaz. Nous avons donc relevé des valeurs de Vr grâce au télescope entre 0° et 90°(premier quadrant), et entre 270° et 360°(quatrième quadrant). Nous obtenons ainsi la courbe de V en fonction de R dans les quadrants 1 et 4. Mais cette méthode ne peut pas être appliquée aux quadrants 2 et 3 car ceux-ci se situent de l'autre côté du centre galactique. Pour mesurer la courbe de rotation de la galaxie dans ces deux quadrants, nous avons donc mesuré les vitesses radiales, grâce au télescope, de tous les nuages sur une même ligne de visée dans les quadrants 2 et 3. Les vitesses négatives correspondent aux nuages qui s'éloignent de nous, tandis que les vitesses radiales positives correspondent aux nuages qui se rapprochent de l'observateur. Afin d'obtenir le rayon R et la vitesses circulaire qui sont inconnus, nous allons réaliser des simulations avec le code informatique que nous avons créé. Pour chaque simulation nous allons fixer une valeur de R et une valeur de V que nous allons faire varier avec les simulations, et nous allons calculer pour chaque couple de valeur de R et V la valeur de la vitesse radiale Vr grâce à la formule Vr=((V x R0 x sin(l))/R)-V0 x sin(l)). On a préalablement vérifié que cette formule pouvait être appliquée au quadrants II et III. On compare ensuite la valeur de Vr obtenue grâce aux simulations aux valeurs de Vr mesurées avec le télescope. Lorsque ces valeurs correspondent, on récupère les valeurs de R et V. On réalise cette simulation jusqu'à obtenir les valeurs de V et R de plusieurs nuages pour chaque ligne de visée. \n",
    "\n Le programme est dans le notebook 'MNVL Données'. \n",
    "\n Nous avons également refait des mesures avec le téléscope pour compléter nos données. \n",
    
    "### Semaine 4\n"
   ]
  }
 ],
 "metadata": {
  "kernelspec": {
   "display_name": "Python 3",
   "language": "python",
   "name": "python3"
  },
  "language_info": { 
   "codemirror_mode": {
    "name": "ipython",
    "version": 3
   },
   "file_extension": ".py",
   "mimetype": "text/x-python",
   "name": "python",
   "nbconvert_exporter": "python",
   "pygments_lexer": "ipython3",
   "version": "3.6.0"
  }
 },
 "nbformat": 4,
 "nbformat_minor": 2
}

{
 "cells": [
  {
   "cell_type": "markdown",
   "metadata": {},
   "source": [
    "# Matière noire et Voie Lactée\n",
    "## Etudiants: Garance Morand, Silya Achat, Mohamed-Bayrem Allagui, Guillaume Renaut, Marie Jarvis\n"
   ]
  },
  {
   "cell_type": "markdown",
   "metadata": {},
   "source": [
    "### Semaine 1\n",
    "Nous prévoyons de réaliser une première modélisation de la Voie Lactée en l'absence de matière noire, que l'on comparera aux données obtenues avec l'observation de la vitesse des nuages de gaz. En voyant que les deux modèles ne sont pas compatibles, on créera un nouveau modèle supposant l'existence de matière noire dans la Voie Lactée de telle sorte à ce que ce soit compatible avec la vitesse des nuages de gaz en respectant les lois d'interaction gravitationnelle. La vitesse des nuages de gaz s'obtiendra à partir de la spectroscopie de l'hydrogène neutre en la calculant à partir du décalage dû à l'effet doppler. A partir de la courbe de rotation du nuage de gaz on modélisera sa trajectoire.\n",
    "\n Cette semaine nous avons effectué des recherches sur la radioastronomie, la matière noire, l'hydrogène neutre, le lien entre les deux derniers. En parallèle nous avons vu comment tracer un cercle en Python, et commencé à travailler sur l'animation des figures. Durant cette semaine, nous avons lu le polycopié sur la Voie Lactée présent sur le site eu-hou. Grâce au simulateur, nous allons relever les valeurs des vitesses radiales de nuages de gaz à différentes longitudes. A partir de ces valeurs, nous allons pouvoir tracer la courbe de la vitesse radiale en fonction de la distance entre le nuage et le centre Galactique, et ainsi trouver la position du nuage de gaz. Pour différentes longitudes l (15°, 30°, 45°, 60° et 75°), nous avons lancé une simulation afin d'obtenir, pour un nuage de gaz, sa température en fonction de sa vitesse radiale. Pour le cinq simulations, nous avons reperé le pic ayant la plus grande vitesse positive. Ce pic correspond à la vitesse radiale Vr d'un nuage de gaz. A partir de cette vitesse, nous avons calculé la distance entre le nuage de gaz et le centre de la galaxie grâce à la formule R=(R0*V0*sin(l))/(V0*sin(l)+Vr)\n",
    "### Semaine 2\n",
    "...\n",
    "### Semaine 3\n",
    "...\n",
    "### Semaine 4\n",
    "..."
   ]
  }
 ],
 "metadata": {
  "kernelspec": {
   "display_name": "Python 3",
   "language": "python",
   "name": "python3"
  },
  "language_info": {
   "codemirror_mode": {
    "name": "ipython",
    "version": 3
   },
   "file_extension": ".py",
   "mimetype": "text/x-python",
   "name": "python",
   "nbconvert_exporter": "python",
   "pygments_lexer": "ipython3",
   "version": "3.6.0"
  }
 },
 "nbformat": 4,
 "nbformat_minor": 2
}

{
 "cells": [
  {
   "cell_type": "code",
   "execution_count": 1,
   "metadata": {
    "collapsed": true
   },
   "outputs": [],
   "source": [
    "import numpy as np\n",
    "import matplotlib.pyplot as plt\n",
    "import matplotlib.animation as animation"
   ]
  },
  {
   "cell_type": "code",
   "execution_count": 2,
   "metadata": {
    "collapsed": true
   },
   "outputs": [],
   "source": [
    "def Ai(i, M, X, Y, epsilon):\n",
    "    \"\"\" indice i * tableau des masses * tableau des x * tableau des y * epsilon   ->  vecteur accélération\n",
    "         int            array                array         array         float           couple (x,y) \"\"\"\n",
    "    G = 6.67*10**(-11)\n",
    "    Fix = 0\n",
    "    Fiy = 0\n",
    "    \n",
    "    for j in range(len(X)):\n",
    "        #print('tour', j)\n",
    "        #print(' ')\n",
    "        Rij_x = X[j] - X[i]    #vecteur proj sur x\n",
    "        Rij_y = Y[j] - Y[i]    #vecteur proj sur y\n",
    "        rij2 = Rij_x**2 + Rij_y**2   #norme au carre\n",
    "        #print('Rx ',Rij_x)\n",
    "        #print('Ry ',Rij_y)\n",
    "        #print('rij² ',rij2)\n",
    "        #print(' ')\n",
    "        \n",
    "        Fix = Fix + (M[j]*Rij_x)/((rij2 + epsilon**2)**(3/2))\n",
    "        Fiy = Fiy + (M[j]*Rij_y)/((rij2 + epsilon**2)**(3/2))\n",
    "        #print('Fx ',Fix)\n",
    "        #print('Fy ',Fiy)\n",
    "        #print('  ')\n",
    "        \n",
    "        \n",
    "    Aix = Fix*G\n",
    "    Aiy = Fiy*G\n",
    "    return Aix, Aiy"
   ]
  },
  {
   "cell_type": "code",
   "execution_count": 3,
   "metadata": {
    "collapsed": false
   },
   "outputs": [
    {
     "data": {
      "text/plain": [
       "((4.0256987212950997e-11, 2.3581993466074048e-11),\n",
       " (0.0, -4.7163986932148096e-11),\n",
       " (-4.0256987212950997e-11, 2.3581993466074048e-11))"
      ]
     },
     "execution_count": 3,
     "metadata": {},
     "output_type": "execute_result"
    }
   ],
   "source": [
    "Mtest = np.array([1,1,1])\n",
    "Xtest = np.array([1,2,3])\n",
    "Ytest = np.array([1,2,1])\n",
    "\n",
    "Ai(0, Mtest, Xtest, Ytest, 0.001),Ai(1, Mtest, Xtest, Ytest, 0.001),Ai(2, Mtest, Xtest, Ytest, 0.001)"
   ]
  },
  {
   "cell_type": "code",
   "execution_count": 4,
   "metadata": {
    "collapsed": false
   },
   "outputs": [],
   "source": [
    "def instant_initial(nb_cercles, vitesse_rotation, m):\n",
    "\n",
    "    # Positions a t = 0\n",
    "\n",
    "    X0 = np.empty(0)\n",
    "    Y0 = np.empty(0)\n",
    "\n",
    "    for i in range(nb_cercles):\n",
    "        theta = np.linspace(0, 2*np.pi, (i+1)*10)\n",
    "        X0 = np.append(X0, (i+1)*np.cos(theta))\n",
    "        Y0 = np.append(Y0, (i+1)*np.sin(theta))\n",
    "\n",
    "    # Vitesses initiales, même vitesse de rotation =/= même vitesse tangentielle !\n",
    "    # Diviser ce vecteur par sa norme pour l'utiliser pour la direction ?\n",
    "    # En le multipliant par la norme souhaitée de la vitesse ?\n",
    "\n",
    "    Vx0 = np.empty(0)\n",
    "    Vy0 = np.empty(0)\n",
    "\n",
    "    for i in range(len(X0)):\n",
    "        Vx0 = np.append(Vx0, vitesse_rotation*Y0[i])\n",
    "        Vy0 = np.append(Vy0, -1*vitesse_rotation*X0[i])\n",
    "    \n",
    "    \n",
    "    M = np.empty(0)\n",
    "    \n",
    "    for i in X0:\n",
    "        M = np.append(M, m)\n",
    "\n",
    "    return X0, Y0, Vx0, Vy0, M"
   ]
  },
  {
   "cell_type": "code",
   "execution_count": 5,
   "metadata": {
    "collapsed": false
   },
   "outputs": [],
   "source": [
    "xtest, ytest, _, _, _ = instant_initial(5, 10, 1000)\n",
    "plt.axis('equal')\n",
    "plt.plot(xtest, ytest, 'bo')\n",
    "plt.show()"
   ]
  },
  {
   "cell_type": "code",
   "execution_count": 6,
   "metadata": {
    "collapsed": true
   },
   "outputs": [],
   "source": [
    "def mouvement(t, nb_cercles, vitesse_rotation, epsilon, m):\n",
    "    X0, Y0, Vx0, Vy0, M = instant_initial(nb_cercles, vitesse_rotation, m)\n",
    "    X, Y, _, _, _ = instant_initial(nb_cercles, vitesse_rotation, m)\n",
    "    \n",
    "    for i in range(len(X0)):\n",
    "        Aix, Aiy = Ai(i, M, X, Y, epsilon)\n",
    "        X[i] = Aix*(t**2/2) + Vx0[i]*t + X0[i]\n",
    "        Y[i] = Aiy*(t**2/2) + Vy0[i]*t + Y0[i]\n",
    "    \n",
    "    return X, Y\n",
    "        \n",
    "    \"\"\"acc pour chaque i, equ mvt, changer XY0 et V0\"\"\"\n",
    "    "
   ]
  },
  {
   "cell_type": "code",
   "execution_count": 7,
   "metadata": {
    "collapsed": false
   },
   "outputs": [],
   "source": [
    "def update(t, nb_cercles, vitesse_rotation, epsilon, m):\n",
    "    X0, Y0, Vx0, Vy0, M = instant_initial(nb_cercles, vitesse_rotation, m)\n",
    "    X, Y, _, _, _ = instant_initial(nb_cercles, vitesse_rotation, m)\n",
    "    dt = 0.01*t\n",
    "    for i in range(len(X0)):\n",
    "        Aix, Aiy = Ai(i, M, X, Y, epsilon)\n",
    "        X[i] = Aix*(dt**2/2) + Vx0[i]*dt + X0[i]\n",
    "        Y[i] = Aiy*(dt**2/2) + Vy0[i]*dt + Y0[i]\n",
    "    \n",
    "    return plt.plot(X, Y, 'bo')"
   ]
  },
  {
   "cell_type": "code",
   "execution_count": 15,
   "metadata": {
    "collapsed": false
   },
   "outputs": [
    {
     "ename": "AttributeError",
     "evalue": "'NoneType' object has no attribute 'tk'",
     "output_type": "error",
     "traceback": [
      "\u001b[1;31m---------------------------------------------------------------------------\u001b[0m",
      "\u001b[1;31mAttributeError\u001b[0m                            Traceback (most recent call last)",
      "\u001b[1;32m<ipython-input-15-0ab8376c6be8>\u001b[0m in \u001b[0;36m<module>\u001b[1;34m()\u001b[0m\n\u001b[0;32m      3\u001b[0m \u001b[0mplt\u001b[0m\u001b[1;33m.\u001b[0m\u001b[0maxis\u001b[0m\u001b[1;33m(\u001b[0m\u001b[1;34m\"equal\"\u001b[0m\u001b[1;33m)\u001b[0m\u001b[1;33m\u001b[0m\u001b[0m\n\u001b[0;32m      4\u001b[0m \u001b[0mani\u001b[0m \u001b[1;33m=\u001b[0m \u001b[0manimation\u001b[0m\u001b[1;33m.\u001b[0m\u001b[0mFuncAnimation\u001b[0m\u001b[1;33m(\u001b[0m\u001b[0mfig\u001b[0m\u001b[1;33m,\u001b[0m \u001b[0mupdate\u001b[0m\u001b[1;33m,\u001b[0m \u001b[0mframes\u001b[0m\u001b[1;33m=\u001b[0m\u001b[1;36m1000\u001b[0m\u001b[1;33m,\u001b[0m \u001b[0minterval\u001b[0m\u001b[1;33m=\u001b[0m\u001b[1;36m1\u001b[0m\u001b[1;33m,\u001b[0m \u001b[0mblit\u001b[0m \u001b[1;33m=\u001b[0m \u001b[1;32mFalse\u001b[0m\u001b[1;33m,\u001b[0m\u001b[0mfargs\u001b[0m\u001b[1;33m=\u001b[0m\u001b[1;33m(\u001b[0m\u001b[1;36m5\u001b[0m\u001b[1;33m,\u001b[0m \u001b[1;36m1\u001b[0m\u001b[1;33m,\u001b[0m \u001b[1;36m0.01\u001b[0m\u001b[1;33m,\u001b[0m \u001b[1;36m1000\u001b[0m\u001b[1;33m)\u001b[0m\u001b[1;33m,\u001b[0m \u001b[0mrepeat\u001b[0m\u001b[1;33m=\u001b[0m\u001b[1;32mTrue\u001b[0m\u001b[1;33m)\u001b[0m\u001b[1;33m\u001b[0m\u001b[0m\n\u001b[1;32m----> 5\u001b[1;33m \u001b[0mplt\u001b[0m\u001b[1;33m.\u001b[0m\u001b[0mshow\u001b[0m\u001b[1;33m(\u001b[0m\u001b[1;33m)\u001b[0m\u001b[1;33m\u001b[0m\u001b[0m\n\u001b[0m",
      "\u001b[1;32mC:\\Python34\\lib\\site-packages\\matplotlib\\pyplot.py\u001b[0m in \u001b[0;36mshow\u001b[1;34m(*args, **kw)\u001b[0m\n\u001b[0;32m    153\u001b[0m     \"\"\"\n\u001b[0;32m    154\u001b[0m     \u001b[1;32mglobal\u001b[0m \u001b[0m_show\u001b[0m\u001b[1;33m\u001b[0m\u001b[0m\n\u001b[1;32m--> 155\u001b[1;33m     \u001b[1;32mreturn\u001b[0m \u001b[0m_show\u001b[0m\u001b[1;33m(\u001b[0m\u001b[1;33m*\u001b[0m\u001b[0margs\u001b[0m\u001b[1;33m,\u001b[0m \u001b[1;33m**\u001b[0m\u001b[0mkw\u001b[0m\u001b[1;33m)\u001b[0m\u001b[1;33m\u001b[0m\u001b[0m\n\u001b[0m\u001b[0;32m    156\u001b[0m \u001b[1;33m\u001b[0m\u001b[0m\n\u001b[0;32m    157\u001b[0m \u001b[1;33m\u001b[0m\u001b[0m\n",
      "\u001b[1;32mC:\\Python34\\lib\\site-packages\\matplotlib\\backend_bases.py\u001b[0m in \u001b[0;36m__call__\u001b[1;34m(self, block)\u001b[0m\n\u001b[0;32m    182\u001b[0m \u001b[1;33m\u001b[0m\u001b[0m\n\u001b[0;32m    183\u001b[0m         \u001b[1;32mif\u001b[0m \u001b[1;32mnot\u001b[0m \u001b[0mis_interactive\u001b[0m\u001b[1;33m(\u001b[0m\u001b[1;33m)\u001b[0m \u001b[1;32mor\u001b[0m \u001b[0mget_backend\u001b[0m\u001b[1;33m(\u001b[0m\u001b[1;33m)\u001b[0m \u001b[1;33m==\u001b[0m \u001b[1;34m'WebAgg'\u001b[0m\u001b[1;33m:\u001b[0m\u001b[1;33m\u001b[0m\u001b[0m\n\u001b[1;32m--> 184\u001b[1;33m             \u001b[0mself\u001b[0m\u001b[1;33m.\u001b[0m\u001b[0mmainloop\u001b[0m\u001b[1;33m(\u001b[0m\u001b[1;33m)\u001b[0m\u001b[1;33m\u001b[0m\u001b[0m\n\u001b[0m\u001b[0;32m    185\u001b[0m \u001b[1;33m\u001b[0m\u001b[0m\n\u001b[0;32m    186\u001b[0m     \u001b[1;32mdef\u001b[0m \u001b[0mmainloop\u001b[0m\u001b[1;33m(\u001b[0m\u001b[0mself\u001b[0m\u001b[1;33m)\u001b[0m\u001b[1;33m:\u001b[0m\u001b[1;33m\u001b[0m\u001b[0m\n",
      "\u001b[1;32mC:\\Python34\\lib\\site-packages\\matplotlib\\backends\\backend_tkagg.py\u001b[0m in \u001b[0;36mmainloop\u001b[1;34m(self)\u001b[0m\n\u001b[0;32m     69\u001b[0m \u001b[1;32mclass\u001b[0m \u001b[0mShow\u001b[0m\u001b[1;33m(\u001b[0m\u001b[0mShowBase\u001b[0m\u001b[1;33m)\u001b[0m\u001b[1;33m:\u001b[0m\u001b[1;33m\u001b[0m\u001b[0m\n\u001b[0;32m     70\u001b[0m     \u001b[1;32mdef\u001b[0m \u001b[0mmainloop\u001b[0m\u001b[1;33m(\u001b[0m\u001b[0mself\u001b[0m\u001b[1;33m)\u001b[0m\u001b[1;33m:\u001b[0m\u001b[1;33m\u001b[0m\u001b[0m\n\u001b[1;32m---> 71\u001b[1;33m         \u001b[0mTk\u001b[0m\u001b[1;33m.\u001b[0m\u001b[0mmainloop\u001b[0m\u001b[1;33m(\u001b[0m\u001b[1;33m)\u001b[0m\u001b[1;33m\u001b[0m\u001b[0m\n\u001b[0m\u001b[0;32m     72\u001b[0m \u001b[1;33m\u001b[0m\u001b[0m\n\u001b[0;32m     73\u001b[0m \u001b[0mshow\u001b[0m \u001b[1;33m=\u001b[0m \u001b[0mShow\u001b[0m\u001b[1;33m(\u001b[0m\u001b[1;33m)\u001b[0m\u001b[1;33m\u001b[0m\u001b[0m\n",
      "\u001b[1;32mC:\\Python34\\lib\\tkinter\\__init__.py\u001b[0m in \u001b[0;36mmainloop\u001b[1;34m(n)\u001b[0m\n\u001b[0;32m    354\u001b[0m \u001b[1;32mdef\u001b[0m \u001b[0mmainloop\u001b[0m\u001b[1;33m(\u001b[0m\u001b[0mn\u001b[0m\u001b[1;33m=\u001b[0m\u001b[1;36m0\u001b[0m\u001b[1;33m)\u001b[0m\u001b[1;33m:\u001b[0m\u001b[1;33m\u001b[0m\u001b[0m\n\u001b[0;32m    355\u001b[0m     \u001b[1;34m\"\"\"Run the main loop of Tcl.\"\"\"\u001b[0m\u001b[1;33m\u001b[0m\u001b[0m\n\u001b[1;32m--> 356\u001b[1;33m     \u001b[0m_default_root\u001b[0m\u001b[1;33m.\u001b[0m\u001b[0mtk\u001b[0m\u001b[1;33m.\u001b[0m\u001b[0mmainloop\u001b[0m\u001b[1;33m(\u001b[0m\u001b[0mn\u001b[0m\u001b[1;33m)\u001b[0m\u001b[1;33m\u001b[0m\u001b[0m\n\u001b[0m\u001b[0;32m    357\u001b[0m \u001b[1;33m\u001b[0m\u001b[0m\n\u001b[0;32m    358\u001b[0m \u001b[0mgetint\u001b[0m \u001b[1;33m=\u001b[0m \u001b[0mint\u001b[0m\u001b[1;33m\u001b[0m\u001b[0m\n",
      "\u001b[1;31mAttributeError\u001b[0m: 'NoneType' object has no attribute 'tk'"
     ]
    }
   ],
   "source": [
    "import matplotlib.animation as animation\n",
    "fig = plt.figure()\n",
    "plt.axis(\"equal\")\n",
    "ani = animation.FuncAnimation(fig, update, frames=1000, interval=1, blit = False,fargs=(5, 1, 0.01, 1000), repeat=True)\n",
    "plt.show()"
   ]
  },
  {
   "cell_type": "code",
   "execution_count": null,
   "metadata": {
    "collapsed": true
   },
   "outputs": [],
   "source": []
  }
 ],
 "metadata": {
  "kernelspec": {
   "display_name": "Python 3",
   "language": "python",
   "name": "python3"
  },
  "language_info": {
   "codemirror_mode": {
    "name": "ipython",
    "version": 3
   },
   "file_extension": ".py",
   "mimetype": "text/x-python",
   "name": "python",
   "nbconvert_exporter": "python",
   "pygments_lexer": "ipython3",
   "version": "3.4.1"
  }
 },
 "nbformat": 4,
 "nbformat_minor": 0
}

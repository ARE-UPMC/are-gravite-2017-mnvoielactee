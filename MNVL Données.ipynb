{
 "cells": [
  {
   "cell_type": "code",
   "execution_count": 1,
   "metadata": {
    "collapsed": true
   },
   "outputs": [],
   "source": [
    "import numpy as np\n",
    "import matplotlib.pyplot as plt\n",
    "import matplotlib.animation as animation"
   ]
  },
  {
   "cell_type": "code",
   "execution_count": 2,
   "metadata": {
    "collapsed": true
   },
   "outputs": [],
   "source": [
    "# Données : Vitesse circulaire (V) vitesse radiale (Vr) longitudes (L)\n",
    "L = np.array([0,10,20,50,60,70,80,90])\n",
    "Vr = np.array([132,154,158,54,31,6,10,5])\n"
   ]
  },
  {
   "cell_type": "code",
   "execution_count": 3,
   "metadata": {
    "collapsed": false
   },
   "outputs": [],
   "source": [
    "V0 = 220\n",
    "R0 = 2.6265*10**17\n",
    "V = np.empty(0)\n",
    "R = np.empty(0)\n",
    "for i in range(len(L)):\n",
    "    V = np.append(V, Vr[i] + V0*np.sin(L[i]*3.1415/180))\n",
    "    R = np.append(R, R0*np.sin(L[i]*3.1415/180))\n",
    "#V, R\n",
    "plt.plot(R, V, 'bo')\n",
    "plt.show()"
   ]
  },
  {
   "cell_type": "code",
   "execution_count": null,
   "metadata": {
    "collapsed": true
   },
   "outputs": [],
   "source": []
  },
  {
   "cell_type": "code",
   "execution_count": 4,
   "metadata": {
    "collapsed": true
   },
   "outputs": [],
   "source": [
    "#Données : L = 50° , R: distance centre_galaxie-nuage_de_gaz\n",
    "Vr50 = np.array([-50,-16,6,23,54])\n",
    "R50 = (10**20)*np.array([1.41,2.06,2.93,4.36,40.73])\n",
    "\n",
    "# L = 90°\n",
    "Vr90 = np.array([-76,-44,-28,5])\n",
    "R90 = (10**20)*np.array([4.28,3.38,3.06,2.56])\n",
    "\n",
    "# L = 135\n",
    "Vr135 = np.array([-93,-83,-75,-49,-39,-15,-3])\n",
    "R135 = (10**20)*np.array([-0.69,-0.80,-0.92, -1.73,-2.61,10.15,3.11])\n",
    "\n",
    "# L = 20°\n",
    "Vr20 = np.array([-24,-3,11,24,55,73,120])\n",
    "R20 = (10**20)*np.array([2.98,2.67,2.49,2.35,2.06,1.93,1.64])\n"
   ]
  },
  {
   "cell_type": "code",
   "execution_count": 7,
   "metadata": {
    "collapsed": false
   },
   "outputs": [],
   "source": [
    "# Quadrant II : L = 135°\n",
    "\n",
    "# Vr en fonction de R\n",
    "\n",
    "L = 3.1415/180 *135\n",
    "V0 = 220\n",
    "R0 = 2.6265*10**17\n",
    "R = R0\n",
    "Vc = 200\n",
    "while R < 3*R0:\n",
    "    Vr = Vc*(R0/R)*np.sin(L)-V0*np.sin(L)\n",
    "    plt.plot(R,Vr,'ro')\n",
    "    R = R + 10**16\n",
    "\n",
    "plt.show()"
   ]
  },
  {
   "cell_type": "code",
   "execution_count": 8,
   "metadata": {
    "collapsed": true
   },
   "outputs": [],
   "source": [
    "# Vr en fct de Vc\n",
    "\n",
    "L = 3.1415/180 *135\n",
    "V0 = 220\n",
    "R0 = 2.6265*10**17\n",
    "R = 2*R0\n",
    "Vc = 200\n",
    "while Vc < 2*V0:\n",
    "    Vr = Vc*(R0/R)*np.sin(L)-V0*np.sin(L)\n",
    "    plt.plot(Vr,Vc,'ro')\n",
    "    Vc = Vc + 10\n",
    "\n",
    "plt.show()"
   ]
  },
  {
   "cell_type": "code",
   "execution_count": 9,
   "metadata": {
    "collapsed": false
   },
   "outputs": [
    {
     "data": {
      "text/plain": [
       "('   -_-   ', None)"
      ]
     },
     "execution_count": 9,
     "metadata": {},
     "output_type": "execute_result"
    }
   ],
   "source": [
    "L = 3.1415/180 *135\n",
    "V0 = 220\n",
    "R0 = 2.6265*10**17\n",
    "R = R0\n",
    "Vc = 100\n",
    "while Vc < 8*V0:\n",
    "    while R < 12*R0:\n",
    "        Vr = Vc*(R0/R)*np.sin(L)-V0*np.sin(L)\n",
    "        plt.plot(1,Vr, 'ro')\n",
    "        if -100<Vr and Vr<0:\n",
    "            Vr, Vc, R\n",
    "        R = R + 10**16\n",
    "    Vc = Vc + 10\n",
    "'   -_-   ',plt.show()"
   ]
  },
  {
   "cell_type": "code",
   "execution_count": 9,
   "metadata": {
    "collapsed": false,
    "scrolled": true
   },
   "outputs": [
    {
     "data": {
      "text/plain": [
       "array([  2.62000000e+17,   3.00842105e+17,   3.39684211e+17,\n",
       "         3.78526316e+17,   4.17368421e+17,   4.56210526e+17,\n",
       "         4.95052632e+17,   5.33894737e+17,   5.72736842e+17,\n",
       "         6.11578947e+17,   6.50421053e+17,   6.89263158e+17,\n",
       "         7.28105263e+17,   7.66947368e+17,   8.05789474e+17,\n",
       "         8.44631579e+17,   8.83473684e+17,   9.22315789e+17,\n",
       "         9.61157895e+17,   1.00000000e+18])"
      ]
     },
     "execution_count": 9,
     "metadata": {},
     "output_type": "execute_result"
    }
   ],
   "source": [
    "np.linspace(2.62*10**17,10**18,20)"
   ]
  },
  {
   "cell_type": "code",
   "execution_count": 2,
   "metadata": {
    "collapsed": true
   },
   "outputs": [],
   "source": [
    "plt.plot(1,1,'ro')\n",
    "plt.show()"
   ]
  },
  {
   "cell_type": "code",
   "execution_count": 9,
   "metadata": {
    "collapsed": false
   },
   "outputs": [
    {
     "data": {
      "text/plain": [
       "0.0001"
      ]
     },
     "execution_count": 9,
     "metadata": {},
     "output_type": "execute_result"
    }
   ],
   "source": [
    "10**17/10**21"
   ]
  },
  {
   "cell_type": "code",
   "execution_count": 10,
   "metadata": {
    "collapsed": false
   },
   "outputs": [
    {
     "data": {
      "text/plain": [
       "-149.66417795417294"
      ]
     },
     "execution_count": 10,
     "metadata": {},
     "output_type": "execute_result"
    }
   ],
   "source": [
    "Vr"
   ]
  },
  {
   "cell_type": "code",
   "execution_count": null,
   "metadata": {
    "collapsed": true
   },
   "outputs": [],
   "source": []
  }
 ],
 "metadata": {
  "kernelspec": {
   "display_name": "Python 3",
   "language": "python",
   "name": "python3"
  },
  "language_info": {
   "codemirror_mode": {
    "name": "ipython",
    "version": 3
   },
   "file_extension": ".py",
   "mimetype": "text/x-python",
   "name": "python",
   "nbconvert_exporter": "python",
   "pygments_lexer": "ipython3",
   "version": "3.4.1"
  }
 },
 "nbformat": 4,
 "nbformat_minor": 0
}

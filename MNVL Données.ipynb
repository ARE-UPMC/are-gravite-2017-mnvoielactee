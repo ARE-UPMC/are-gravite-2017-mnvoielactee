{
 "cells": [
  {
   "cell_type": "code",
   "execution_count": 2,
   "metadata": {
    "collapsed": false
   },
   "outputs": [
    {
     "data": {
      "text/plain": [
       "(array([  0.00000000e+00,   4.56073624e+16,   8.98290498e+16,\n",
       "          2.01197228e+17,   2.27457516e+17,   2.46807030e+17,\n",
       "          2.58657878e+17,   2.62650000e+17,   1.31321487e+17,\n",
       "          1.68824023e+17,  -2.62649997e+17,  -2.58666327e+17,\n",
       "         -2.46823674e+17,  -2.27481849e+17,  -2.01228510e+17,\n",
       "         -1.68861305e+17,  -1.31363636e+17,  -8.98747841e+16,\n",
       "         -4.56552932e+16]),\n",
       " array([ 132.        ,  192.20148386,  233.24230325,  222.52613786,\n",
       "         221.52219144,  212.72966523,  226.65613232,  224.99999976,\n",
       "         215.99705784,  205.40980413,  -98.99999788, -120.66320947,\n",
       "        -122.7436064 , -111.54257305, -103.55234067,  -78.44103201,\n",
       "         -82.03236203,  -69.2806111 ,  -34.24163147]))"
      ]
     },
     "execution_count": 2,
     "metadata": {},
     "output_type": "execute_result"
    }
   ],
   "source": [
    "import numpy as np\n",
    "import matplotlib.pyplot as plt\n",
    "import matplotlib.animation as animation\n",
    "\n",
    "# Données : Vitesse circulaire (V) vitesse radiale (Vr) longitudes (L)\n",
    "L = np.array([0,10,20,50,60,70,80,90,30,40,270,280,290,300,310,320,330,340,350])\n",
    "Vr = np.array([132,154,158,54,31,6,10,5,106,64,121,96,84,79,65,63,28,6,4])\n",
    "\n",
    "V0 = 220\n",
    "R0 = 2.6265*10**17\n",
    "V = np.empty(0)\n",
    "R = np.empty(0)\n",
    "for i in range(len(L)):\n",
    "    V = np.append(V, Vr[i] + V0*np.sin(L[i]*3.1415/180))\n",
    "    R = np.append(R, R0*np.sin(L[i]*3.1415/180))\n",
    "#V, R\n",
    "plt.plot(R, V, 'bo')\n",
    "plt.show()\n",
    "(R,V)"
   ]
  },
  {
   "cell_type": "code",
   "execution_count": null,
   "metadata": {
    "collapsed": true
   },
   "outputs": [],
   "source": []
  },
  {
   "cell_type": "code",
   "execution_count": 2,
   "metadata": {
    "collapsed": true
   },
   "outputs": [],
   "source": [
    "#Données : L = 50° , R: distance centre_galaxie-nuage_de_gaz\n",
    "Vr50 = np.array([-50,-16,6,23,54])\n",
    "R50 = (10**20)*np.array([1.41,2.06,2.93,4.36,40.73])\n",
    "\n",
    "# L = 90°\n",
    "Vr90 = np.array([-76,-44,-28,5])\n",
    "R90 = (10**20)*np.array([4.28,3.38,3.06,2.56])\n",
    "\n",
    "# L = 135\n",
    "Vr135 = np.array([-93,-83,-75,-49,-39,-15,-3])\n",
    "R135 = (10**20)*np.array([-0.69,-0.80,-0.92, -1.73,-2.61,10.15,3.11])\n",
    "\n",
    "# L = 20°\n",
    "Vr20 = np.array([-24,-3,11,24,55,73,120])\n",
    "R20 = (10**20)*np.array([2.98,2.67,2.49,2.35,2.06,1.93,1.64])\n"
   ]
  },
  {
   "cell_type": "code",
   "execution_count": 3,
   "metadata": {
    "collapsed": false
   },
   "outputs": [],
   "source": [
    "# Quadrant II : L = 135°\n",
    "\n",
    "# Vr en fonction de R\n",
    "\n",
    "L = 3.1415/180 *135\n",
    "V0 = 220\n",
    "R0 = 2.6265*10**17\n",
    "R = R0\n",
    "Vc = 200\n",
    "while R < 3*R0:\n",
    "    Vr = Vc*(R0/R)*np.sin(L)-V0*np.sin(L)\n",
    "    plt.plot(R,Vr,'ro')\n",
    "    R = R + 10**16\n",
    "\n",
    "plt.show()"
   ]
  },
  {
   "cell_type": "code",
   "execution_count": 4,
   "metadata": {
    "collapsed": true
   },
   "outputs": [],
   "source": [
    "# Vr en fct de Vc\n",
    "\n",
    "L = 3.1415/180 *135\n",
    "V0 = 220\n",
    "R0 = 2.6265*10**17\n",
    "R = 2*R0\n",
    "Vc = 200\n",
    "while Vc < 2*V0:\n",
    "    Vr = Vc*(R0/R)*np.sin(L)-V0*np.sin(L)\n",
    "    plt.plot(Vc,Vr,'ro')\n",
    "    Vc = Vc + 10\n",
    "\n",
    "plt.show()"
   ]
  },
  {
   "cell_type": "code",
   "execution_count": 1,
   "metadata": {
    "collapsed": false
   },
   "outputs": [
    {
     "name": "stdout",
     "output_type": "stream",
     "text": [
      "-92.5600517633     140     4.1265e+17\n",
      "-92.634789098     150     4.4265e+17\n",
      "-92.7000389893     160     4.7265e+17\n",
      "-92.7575001738     170     5.0265e+17\n",
      "-93\n",
      "-83.2912831877     110     2.8265e+17\n",
      "-82.9890462797     130     3.3265e+17\n",
      "-82.7657945822     150     3.8265e+17\n",
      "-82.5941438779     170     4.3265e+17\n",
      "-83.3118780566     180     4.6265e+17\n",
      "-83.1137529207     200     5.1265e+17\n",
      "-83\n",
      "-74.9828551499     140     3.2265e+17\n",
      "-75.1595168315     170     3.9265e+17\n",
      "-74.555980375     180     4.1265e+17\n",
      "-75.2827198826     200     4.6265e+17\n",
      "-74.761610632     210     4.8265e+17\n",
      "-75\n",
      "-48.6425560195     180     3.1265e+17\n",
      "-49.4881591984     190     3.3265e+17\n",
      "-48.7884912967     220     3.8265e+17\n",
      "-49.4798390973     230     4.0265e+17\n",
      "-48.8892902902     260     4.5265e+17\n",
      "-49.473983429     270     4.7265e+17\n",
      "-48.9630886923     300     5.2265e+17\n",
      "-49\n",
      "-38.9724338632     190     3.0265e+17\n",
      "-39.080690358     240     3.8265e+17\n",
      "-38.5478375984     260     4.1265e+17\n",
      "-39.1515080997     290     4.6265e+17\n",
      "-38.7008712916     310     4.9265e+17\n",
      "-39\n",
      "-14.6404905046     260     3.4265e+17\n",
      "-14.8111880113     290     3.8265e+17\n",
      "-14.9495755675     320     4.2265e+17\n",
      "-15.0640335777     350     4.6265e+17\n",
      "-15.1602748549     380     5.0265e+17\n",
      "-15\n",
      "-3.25487448993     240     2.9265e+17\n",
      "-2.83644419067     290     3.5265e+17\n",
      "-3.35181191252     330     4.0265e+17\n",
      "-2.53969482177     340     4.1265e+17\n",
      "-3.02029631673     380     4.6265e+17\n",
      "-3.40714934881     420     5.1265e+17\n",
      "-2.76489642265     430     5.2265e+17\n",
      "-3\n"
     ]
    },
    {
     "data": {
      "text/plain": [
       "0"
      ]
     },
     "execution_count": 1,
     "metadata": {},
     "output_type": "execute_result"
    }
   ],
   "source": [
    "import numpy as np\n",
    "import matplotlib.pyplot as plt\n",
    "import matplotlib.animation as animation\n",
    "\n",
    "\n",
    "# Données : Vitesse circulaire (V) vitesse radiale (Vr) longitudes (L)\n",
    "L = np.array([0,10,20,50,60,70,80,90,30,40,270,280,290,300,310,320,330,340,350])\n",
    "Vr = np.array([132,154,158,54,31,6,10,5,106,64,121,96,84,79,65,63,28,6,4])\n",
    "\n",
    "V0 = 220\n",
    "R0 = 2.6265*10**17\n",
    "V = np.empty(0)\n",
    "R = np.empty(0)\n",
    "for i in range(len(L)):\n",
    "    V = np.append(V, Vr[i] + V0*np.sin(L[i]*3.1415/180))\n",
    "    R = np.append(R, R0*np.sin(L[i]*3.1415/180))\n",
    "#V, R\n",
    "plt.plot(R, V, 'go')\n",
    "\n",
    "\n",
    "\n",
    "\n",
    "\n",
    "L = 3.1415/180 *135\n",
    "V0 = 220\n",
    "R0 = 2.6265*10**17\n",
    "R = R0\n",
    "Vc = 110\n",
    "D = [-93,-83,-75,-49,-39,-15,-3]\n",
    "color= 'ro'\n",
    "\n",
    "for d in D:\n",
    "    Vc = 110\n",
    "    while Vc < 3*V0:\n",
    "        while R < 2*R0:\n",
    "            Vr = Vc*(R0/R)*np.sin(L)-V0*np.sin(L)\n",
    "            if d -0.5<Vr and Vr<d +0.5:\n",
    "                print(Vr, '   ', Vc,'   ' ,R)\n",
    "                plt.plot(R, Vc, color)\n",
    "                \n",
    "            \n",
    "            R = R + 10**16\n",
    "        R = R0\n",
    "        Vc = Vc + 10\n",
    "    if color == 'ro':\n",
    "        color = 'bo'\n",
    "    else:\n",
    "        color= 'ro'\n",
    "    print(d)\n",
    "plt.show()\n",
    "0"
   ]
  },
  {
   "cell_type": "code",
   "execution_count": 6,
   "metadata": {
    "collapsed": false,
    "scrolled": false
   },
   "outputs": [
    {
     "data": {
      "text/plain": [
       "array([  2.62000000e+17,   3.00842105e+17,   3.39684211e+17,\n",
       "         3.78526316e+17,   4.17368421e+17,   4.56210526e+17,\n",
       "         4.95052632e+17,   5.33894737e+17,   5.72736842e+17,\n",
       "         6.11578947e+17,   6.50421053e+17,   6.89263158e+17,\n",
       "         7.28105263e+17,   7.66947368e+17,   8.05789474e+17,\n",
       "         8.44631579e+17,   8.83473684e+17,   9.22315789e+17,\n",
       "         9.61157895e+17,   1.00000000e+18])"
      ]
     },
     "execution_count": 6,
     "metadata": {},
     "output_type": "execute_result"
    }
   ],
   "source": [
    "np.linspace(2.62*10**17,10**18,20)"
   ]
  },
  {
   "cell_type": "code",
   "execution_count": 7,
   "metadata": {
    "collapsed": true
   },
   "outputs": [],
   "source": [
    "plt.plot(1,1,'ro')\n",
    "plt.show()"
   ]
  },
  {
   "cell_type": "code",
   "execution_count": 8,
   "metadata": {
    "collapsed": false
   },
   "outputs": [
    {
     "data": {
      "text/plain": [
       "0.0001"
      ]
     },
     "execution_count": 8,
     "metadata": {},
     "output_type": "execute_result"
    }
   ],
   "source": [
    "10**17/10**21"
   ]
  },
  {
   "cell_type": "code",
   "execution_count": 9,
   "metadata": {
    "collapsed": false
   },
   "outputs": [
    {
     "data": {
      "text/plain": [
       "75.416659726063642"
      ]
     },
     "execution_count": 9,
     "metadata": {},
     "output_type": "execute_result"
    }
   ],
   "source": [
    "Vr"
   ]
  },
  {
   "cell_type": "code",
   "execution_count": 1,
   "metadata": {
    "collapsed": false
   },
   "outputs": [
    {
     "data": {
      "text/plain": [
       "10"
      ]
     },
     "execution_count": 1,
     "metadata": {},
     "output_type": "execute_result"
    }
   ],
   "source": [
    "Vr = -10\n",
    "if -100<Vr and Vr<0:\n",
    "    Vr = 10\n",
    "Vr"
   ]
  },
  {
   "cell_type": "code",
   "execution_count": 19,
   "metadata": {
    "collapsed": false
   },
   "outputs": [],
   "source": [
    "import numpy as np\n",
    "import matplotlib.pyplot as plt\n",
    "import matplotlib.animation as animation\n",
    "\n",
    "\n",
    "# Données : Vitesse circulaire (V) vitesse radiale (Vr) longitudes (L)\n",
    "L = np.array([0,10,20,50,60,70,80,90,30,40,270,280,290,300,310,320,330,340,350])\n",
    "Vr = np.array([132,154,158,54,31,6,10,5,106,64,121,96,84,79,65,63,28,6,4])\n",
    "\n",
    "V0 = 220\n",
    "R0 = 2.6265*10**17\n",
    "V = np.empty(0)\n",
    "R = np.empty(0)\n",
    "for i in range(len(L)):\n",
    "    V = np.append(V, Vr[i] + V0*np.sin(L[i]*3.1415/180))\n",
    "    R = np.append(R, R0*np.sin(L[i]*3.1415/180))\n",
    "#V, R\n",
    "plt.plot(R, V, 'go')\n",
    "\n",
    "\n",
    "\n",
    "\n",
    "\n",
    "L = 3.1415/180 *135\n",
    "V0 = 220\n",
    "R0 = 2.6265*10**17\n",
    "R = R0\n",
    "Vc = 110\n",
    "D = [-93,-83,-75,-49,-39,-15,-3]\n",
    "color= 'ro'\n",
    "SetV = set()\n",
    "SetR = set()\n",
    "\n",
    "for d in D:\n",
    "    Vc = 110\n",
    "    while Vc < 3*V0:\n",
    "        while R < 2*R0:\n",
    "            Vr = Vc*(R0/R)*np.sin(L)-V0*np.sin(L)\n",
    "            if d -0.5<Vr and Vr<d +0.5:\n",
    "                #print(Vr, '   ', Vc,'   ' ,R)\n",
    "                SetV.add(Vc)\n",
    "                SetR.add(R)\n",
    "                plt.plot(R, Vc, color)\n",
    "            \n",
    "            R = R + 10**16\n",
    "        R = R0\n",
    "        Vc = Vc + 10\n",
    "    \n",
    "        \n",
    "    if color == 'ro':\n",
    "        color = 'bo'\n",
    "    else:\n",
    "        color= 'ro'\n",
    "    #print(d)\n",
    "#print(SetV,SetR)\n",
    "\n",
    "\n",
    "#print(minV)\n",
    "plt.show()\n"
   ]
  },
  {
   "cell_type": "code",
   "execution_count": null,
   "metadata": {
    "collapsed": true
   },
   "outputs": [],
   "source": [
    "\n",
    "        \n",
    "import numpy as np\n",
    "import matplotlib.pyplot as plt\n",
    "import matplotlib.animation as animation\n",
    "\n",
    "\n",
    "# Données : Vitesse circulaire (V) vitesse radiale (Vr) longitudes (L)\n",
    "L = np.array([0,10,20,50,60,70,80,90,30,40,270,280,290,300,310,320,330,340,350])\n",
    "Vr = np.array([132,154,158,54,31,6,10,5,106,64,121,96,84,79,65,63,28,6,4])\n",
    "\n",
    "V0 = 220\n",
    "R0 = 2.6265*10**17\n",
    "V = np.empty(0)\n",
    "R = np.empty(0)\n",
    "for i in range(len(L)):\n",
    "    V = np.append(V, Vr[i] + V0*np.sin(L[i]*3.1415/180))\n",
    "    R = np.append(R, R0*np.sin(L[i]*3.1415/180))\n",
    "#V, R\n",
    "plt.plot(R, V, 'go')\n",
    "\n",
    "\n",
    "\n",
    "\n",
    "\n",
    "L = 3.1415/180 *135\n",
    "V0 = 220\n",
    "R0 = 2.6265*10**17\n",
    "R = R0\n",
    "Vc = 110\n",
    "D = [-93,-83,-75,-49,-39,-15,-3]\n",
    "color= 'ro'\n",
    "SetV = set()\n",
    "SetR = set()\n",
    "\n",
    "for d in D:\n",
    "    Vc = 110\n",
    "    while Vc < 3*V0:\n",
    "        while R < 2*R0:\n",
    "            Vr = Vc*(R0/R)*np.sin(L)-V0*np.sin(L)\n",
    "            if d -0.5<Vr and Vr<d +0.5:\n",
    "                #print(Vr, '   ', Vc,'   ' ,R)\n",
    "                SetV.add(Vc)\n",
    "                SetR.add(R)\n",
    "                plt.plot(R, Vc, color)\n",
    "            \n",
    "            R = R + 10**16\n",
    "        R = R0\n",
    "        Vc = Vc + 10\n",
    "    \n",
    "    if len(SetV)!=0:\n",
    "        minV = min(SetV)\n",
    "        maxV = max(SetV)\n",
    "        minR = min(SetR)\n",
    "        maxR = max(SetR)\n",
    "\n",
    "        Rmoy = maxR - minR\n",
    "        Vmoy = maxV - minV\n",
    "\n",
    "        plt.plot(Rmoy,Vmoy, 'yo')\n",
    "        \n",
    "    if color == 'ro':\n",
    "        color = 'bo'\n",
    "    else:\n",
    "        color= 'ro'\n",
    "    #print(d)\n",
    "#print(SetV,SetR)\n",
    "\n",
    "\n",
    "#print(minV)\n",
    "plt.show()\n"
   ]
  },
  {
   "cell_type": "code",
   "execution_count": null,
   "metadata": {
    "collapsed": true
   },
   "outputs": [],
   "source": []
  }
 ],
 "metadata": {
  "kernelspec": {
   "display_name": "Python 3",
   "language": "python",
   "name": "python3"
  },
  "language_info": {
   "codemirror_mode": {
    "name": "ipython",
    "version": 3
   },
   "file_extension": ".py",
   "mimetype": "text/x-python",
   "name": "python",
   "nbconvert_exporter": "python",
   "pygments_lexer": "ipython3",
   "version": "3.4.1"
  }
 },
 "nbformat": 4,
 "nbformat_minor": 0
}

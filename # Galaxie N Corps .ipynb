{
 "cells": [
  {
   "cell_type": "code",
   "execution_count": 18,
   "metadata": {
    "collapsed": false
   },
   "outputs": [
    {
     "ename": "AttributeError",
     "evalue": "'NoneType' object has no attribute 'tk'",
     "output_type": "error",
     "traceback": [
      "\u001b[1;31m---------------------------------------------------------------------------\u001b[0m",
      "\u001b[1;31mAttributeError\u001b[0m                            Traceback (most recent call last)",
      "\u001b[1;32m<ipython-input-18-e488bbffd465>\u001b[0m in \u001b[0;36m<module>\u001b[1;34m()\u001b[0m\n\u001b[0;32m     77\u001b[0m ani = animation.FuncAnimation(fig, update, frames=1000, interval=10, \n\u001b[0;32m     78\u001b[0m                               blit = False,fargs=(5, 220, 0.1, 10**33), repeat=True)\n\u001b[1;32m---> 79\u001b[1;33m \u001b[0mplt\u001b[0m\u001b[1;33m.\u001b[0m\u001b[0mshow\u001b[0m\u001b[1;33m(\u001b[0m\u001b[1;33m)\u001b[0m\u001b[1;33m\u001b[0m\u001b[0m\n\u001b[0m",
      "\u001b[1;32mC:\\Python34\\lib\\site-packages\\matplotlib\\pyplot.py\u001b[0m in \u001b[0;36mshow\u001b[1;34m(*args, **kw)\u001b[0m\n\u001b[0;32m    153\u001b[0m     \"\"\"\n\u001b[0;32m    154\u001b[0m     \u001b[1;32mglobal\u001b[0m \u001b[0m_show\u001b[0m\u001b[1;33m\u001b[0m\u001b[0m\n\u001b[1;32m--> 155\u001b[1;33m     \u001b[1;32mreturn\u001b[0m \u001b[0m_show\u001b[0m\u001b[1;33m(\u001b[0m\u001b[1;33m*\u001b[0m\u001b[0margs\u001b[0m\u001b[1;33m,\u001b[0m \u001b[1;33m**\u001b[0m\u001b[0mkw\u001b[0m\u001b[1;33m)\u001b[0m\u001b[1;33m\u001b[0m\u001b[0m\n\u001b[0m\u001b[0;32m    156\u001b[0m \u001b[1;33m\u001b[0m\u001b[0m\n\u001b[0;32m    157\u001b[0m \u001b[1;33m\u001b[0m\u001b[0m\n",
      "\u001b[1;32mC:\\Python34\\lib\\site-packages\\matplotlib\\backend_bases.py\u001b[0m in \u001b[0;36m__call__\u001b[1;34m(self, block)\u001b[0m\n\u001b[0;32m    182\u001b[0m \u001b[1;33m\u001b[0m\u001b[0m\n\u001b[0;32m    183\u001b[0m         \u001b[1;32mif\u001b[0m \u001b[1;32mnot\u001b[0m \u001b[0mis_interactive\u001b[0m\u001b[1;33m(\u001b[0m\u001b[1;33m)\u001b[0m \u001b[1;32mor\u001b[0m \u001b[0mget_backend\u001b[0m\u001b[1;33m(\u001b[0m\u001b[1;33m)\u001b[0m \u001b[1;33m==\u001b[0m \u001b[1;34m'WebAgg'\u001b[0m\u001b[1;33m:\u001b[0m\u001b[1;33m\u001b[0m\u001b[0m\n\u001b[1;32m--> 184\u001b[1;33m             \u001b[0mself\u001b[0m\u001b[1;33m.\u001b[0m\u001b[0mmainloop\u001b[0m\u001b[1;33m(\u001b[0m\u001b[1;33m)\u001b[0m\u001b[1;33m\u001b[0m\u001b[0m\n\u001b[0m\u001b[0;32m    185\u001b[0m \u001b[1;33m\u001b[0m\u001b[0m\n\u001b[0;32m    186\u001b[0m     \u001b[1;32mdef\u001b[0m \u001b[0mmainloop\u001b[0m\u001b[1;33m(\u001b[0m\u001b[0mself\u001b[0m\u001b[1;33m)\u001b[0m\u001b[1;33m:\u001b[0m\u001b[1;33m\u001b[0m\u001b[0m\n",
      "\u001b[1;32mC:\\Python34\\lib\\site-packages\\matplotlib\\backends\\backend_tkagg.py\u001b[0m in \u001b[0;36mmainloop\u001b[1;34m(self)\u001b[0m\n\u001b[0;32m     69\u001b[0m \u001b[1;32mclass\u001b[0m \u001b[0mShow\u001b[0m\u001b[1;33m(\u001b[0m\u001b[0mShowBase\u001b[0m\u001b[1;33m)\u001b[0m\u001b[1;33m:\u001b[0m\u001b[1;33m\u001b[0m\u001b[0m\n\u001b[0;32m     70\u001b[0m     \u001b[1;32mdef\u001b[0m \u001b[0mmainloop\u001b[0m\u001b[1;33m(\u001b[0m\u001b[0mself\u001b[0m\u001b[1;33m)\u001b[0m\u001b[1;33m:\u001b[0m\u001b[1;33m\u001b[0m\u001b[0m\n\u001b[1;32m---> 71\u001b[1;33m         \u001b[0mTk\u001b[0m\u001b[1;33m.\u001b[0m\u001b[0mmainloop\u001b[0m\u001b[1;33m(\u001b[0m\u001b[1;33m)\u001b[0m\u001b[1;33m\u001b[0m\u001b[0m\n\u001b[0m\u001b[0;32m     72\u001b[0m \u001b[1;33m\u001b[0m\u001b[0m\n\u001b[0;32m     73\u001b[0m \u001b[0mshow\u001b[0m \u001b[1;33m=\u001b[0m \u001b[0mShow\u001b[0m\u001b[1;33m(\u001b[0m\u001b[1;33m)\u001b[0m\u001b[1;33m\u001b[0m\u001b[0m\n",
      "\u001b[1;32mC:\\Python34\\lib\\tkinter\\__init__.py\u001b[0m in \u001b[0;36mmainloop\u001b[1;34m(n)\u001b[0m\n\u001b[0;32m    354\u001b[0m \u001b[1;32mdef\u001b[0m \u001b[0mmainloop\u001b[0m\u001b[1;33m(\u001b[0m\u001b[0mn\u001b[0m\u001b[1;33m=\u001b[0m\u001b[1;36m0\u001b[0m\u001b[1;33m)\u001b[0m\u001b[1;33m:\u001b[0m\u001b[1;33m\u001b[0m\u001b[0m\n\u001b[0;32m    355\u001b[0m     \u001b[1;34m\"\"\"Run the main loop of Tcl.\"\"\"\u001b[0m\u001b[1;33m\u001b[0m\u001b[0m\n\u001b[1;32m--> 356\u001b[1;33m     \u001b[0m_default_root\u001b[0m\u001b[1;33m.\u001b[0m\u001b[0mtk\u001b[0m\u001b[1;33m.\u001b[0m\u001b[0mmainloop\u001b[0m\u001b[1;33m(\u001b[0m\u001b[0mn\u001b[0m\u001b[1;33m)\u001b[0m\u001b[1;33m\u001b[0m\u001b[0m\n\u001b[0m\u001b[0;32m    357\u001b[0m \u001b[1;33m\u001b[0m\u001b[0m\n\u001b[0;32m    358\u001b[0m \u001b[0mgetint\u001b[0m \u001b[1;33m=\u001b[0m \u001b[0mint\u001b[0m\u001b[1;33m\u001b[0m\u001b[0m\n",
      "\u001b[1;31mAttributeError\u001b[0m: 'NoneType' object has no attribute 'tk'"
     ]
    }
   ],
   "source": [
    "import numpy as np\n",
    "import matplotlib.pyplot as plt\n",
    "import matplotlib.animation as animation\n",
    "\n",
    "\n",
    "\n",
    "def Ai(i, M, X, Y, epsilon):\n",
    "    \n",
    "    G = 6.67*10**(-11)\n",
    "    Fix = 0\n",
    "    Fiy = 0\n",
    "    \n",
    "    for j in range(len(X)):\n",
    "        Rij_x = X[j] - X[i]          #vecteur proj sur x\n",
    "        Rij_y = Y[j] - Y[i]          #vecteur proj sur y\n",
    "        rij2 = Rij_x**2 + Rij_y**2   #norme au carre\n",
    "        \n",
    "        Fix = Fix + (M[j]*Rij_x)/((rij2 + epsilon**2)**(3/2))\n",
    "        Fiy = Fiy + (M[j]*Rij_y)/((rij2 + epsilon**2)**(3/2))\n",
    "        \n",
    "    Aix = Fix*G\n",
    "    Aiy = Fiy*G\n",
    "    \n",
    "    return Aix, Aiy\n",
    "\n",
    "\n",
    "\n",
    "def instant_initial(nb_cercles, vitesse_circulaire, m):\n",
    "\n",
    "    X0 = np.empty(0)\n",
    "    Y0 = np.empty(0)\n",
    "    Rgalaxie = 50000 *10**13    # en km\n",
    "    M = np.empty(0)\n",
    "    l0 = 0\n",
    "    \n",
    "    for i in range(1, nb_cercles+1):\n",
    "        theta = np.linspace(0, 2*np.pi-((2*np.pi-0.1)/(i*10)), i*10)# pour ne pas compter 0 et 2pi en double\n",
    "        X0 = np.append(X0, i*Rgalaxie/nb_cercles *np.cos(theta))\n",
    "        Y0 = np.append(Y0, i*Rgalaxie/nb_cercles* np.sin(theta))\n",
    "        l = len(X0)-l0\n",
    "        for j in range(l):\n",
    "            M = np.append(M, (m**2.53/(i*Rgalaxie)**3))\n",
    "        l0 = l\n",
    "\n",
    "    Vx0 = np.empty(0)\n",
    "    Vy0 = np.empty(0)\n",
    "    V02 = 0\n",
    "    vitesse_rotation = 30\n",
    "    \n",
    "    for i in range(len(X0)):\n",
    "        V02 = (vitesse_rotation*Y0[i])**2 + (-1*vitesse_rotation*X0[i])**2\n",
    "        Vx0 = np.append(Vx0, vitesse_circulaire*(vitesse_rotation*Y0[i]/np.sqrt(V02)))\n",
    "        Vy0 = np.append(Vy0, vitesse_circulaire*(-1*vitesse_rotation*X0[i]/np.sqrt(V02)))\n",
    "    \n",
    "\n",
    "    return X0, Y0, Vx0, Vy0, M\n",
    "\n",
    "\n",
    "\n",
    "def update(t, nb_cercles, vitesse_circulaire, epsilon, m):\n",
    "    plt.clf()\n",
    "    plt.axis('equal')\n",
    "    X0, Y0, Vx0, Vy0, M = instant_initial(nb_cercles, vitesse_circulaire, m)\n",
    "    X, Y, _, _, _ = instant_initial(nb_cercles, vitesse_circulaire, m)\n",
    "    dt = 10**13*t\n",
    "    for i in range(len(X0)):\n",
    "        Aix, Aiy = Ai(i, M, X, Y, epsilon)\n",
    "        X[i] = Aix*(dt**2/2) + Vx0[i]*dt + X0[i]\n",
    "        Y[i] = Aiy*(dt**2/2) + Vy0[i]*dt + Y0[i]\n",
    "    \n",
    "    plt.plot(X, Y, 'bo')\n",
    "\n",
    "\n",
    "\n",
    "fig = plt.figure()\n",
    "plt.axis(\"equal\")\n",
    "ani = animation.FuncAnimation(fig, update, frames=1000, interval=10, \n",
    "                              blit = False,fargs=(5, 220, 0.1, 10**33), repeat=True)\n",
    "plt.show()\n"
   ]
  },
  {
   "cell_type": "code",
   "execution_count": 38,
   "metadata": {
    "collapsed": false
   },
   "outputs": [
    {
     "data": {
      "text/plain": [
       "array([ 0.        ,  0.62831853,  1.25663706,  1.88495559,  2.51327412,\n",
       "        3.14159265,  3.76991118,  4.39822972,  5.02654825,  5.65486678])"
      ]
     },
     "execution_count": 38,
     "metadata": {},
     "output_type": "execute_result"
    }
   ],
   "source": [
    "i = 1\n",
    "np.linspace(0, 2*np.pi-(2*np.pi/(i*10)), i*10)"
   ]
  },
  {
   "cell_type": "code",
   "execution_count": 10,
   "metadata": {
    "collapsed": false
   },
   "outputs": [],
   "source": [
    "X0 = np.empty(0)\n",
    "Y0 = np.empty(0)\n",
    "for i in range(1, 5+1):\n",
    "        theta = np.linspace(0, 2*np.pi-(2*np.pi/(i*10)), i*10)\n",
    "        X0 = np.append(X0, i*np.cos(theta))\n",
    "        Y0 = np.append(Y0, i*np.sin(theta))\n",
    "\n",
    "plt.axis('equal')\n",
    "plt.plot(X0,Y0,'bo')\n",
    "plt.show()"
   ]
  },
  {
   "cell_type": "code",
   "execution_count": 25,
   "metadata": {
    "collapsed": false
   },
   "outputs": [],
   "source": [
    " # Vitesses initiales, même vitesse de rotation =/= même vitesse tangentielle !\n",
    "    # Diviser ce vecteur par sa norme pour l'utiliser pour la direction ?\n",
    "    # En le multipliant par la norme souhaitée de la vitesse ?\n",
    "    \n",
    "nb_cercles = 5\n",
    "X0 = np.empty(0)\n",
    "Y0 = np.empty(0)\n",
    "\n",
    "for i in range(1, nb_cercles+1):\n",
    "    theta = np.linspace(0, 2*np.pi-(2*np.pi/(i*10)), i*10)# pour ne pas compter 0 et 2pi en double\n",
    "    X0 = np.append(X0, i*50000/nb_cercles *np.cos(theta))\n",
    "    Y0 = np.append(Y0, i*50000/nb_cercles* np.sin(theta))\n",
    "        \n",
    "        \n",
    "Vx0 = np.empty(0)\n",
    "Vy0 = np.empty(0)\n",
    "V02 = 0\n",
    "vitesse_rotation = 30\n",
    "vitesse_circulaire = 220\n",
    "    \n",
    "for i in range(len(X0)):\n",
    "    V02 = (vitesse_rotation*Y0[i])**2 + (-1*vitesse_rotation*X0[i])**2\n",
    "    Vx0 = np.append(Vx0, vitesse_circulaire*(vitesse_rotation*Y0[i]/np.sqrt(V02)))\n",
    "    Vy0 = np.append(Vy0, vitesse_circulaire*(-1*vitesse_rotation*X0[i]/np.sqrt(V02)))\n",
    "    \n",
    "plt.axis('equal')\n",
    "plt.plot(Vx0, Vy0,'go')\n",
    "plt.show()"
   ]
  },
  {
   "cell_type": "code",
   "execution_count": 24,
   "metadata": {
    "collapsed": true
   },
   "outputs": [],
   "source": [
    "plt.axis('equal')\n",
    "plt.plot([X0,Vx0], [Y0,Vy0],'go')\n",
    "plt.show()"
   ]
  },
  {
   "cell_type": "code",
   "execution_count": 36,
   "metadata": {
    "collapsed": false
   },
   "outputs": [
    {
     "data": {
      "text/plain": [
       "31536000000000"
      ]
     },
     "execution_count": 36,
     "metadata": {},
     "output_type": "execute_result"
    }
   ],
   "source": [
    "10**6*365*24*3600\n"
   ]
  },
  {
   "cell_type": "code",
   "execution_count": null,
   "metadata": {
    "collapsed": true
   },
   "outputs": [],
   "source": []
  }
 ],
 "metadata": {
  "kernelspec": {
   "display_name": "Python 3",
   "language": "python",
   "name": "python3"
  },
  "language_info": {
   "codemirror_mode": {
    "name": "ipython",
    "version": 3
   },
   "file_extension": ".py",
   "mimetype": "text/x-python",
   "name": "python",
   "nbconvert_exporter": "python",
   "pygments_lexer": "ipython3",
   "version": "3.4.1"
  }
 },
 "nbformat": 4,
 "nbformat_minor": 0
}
